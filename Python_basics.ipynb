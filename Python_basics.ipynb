{
 "cells": [
  {
   "cell_type": "markdown",
   "id": "f75b7b4e",
   "metadata": {},
   "source": [
    "# Basics of Python\n",
    "## How to use Jupiter notebook \n",
    "### **Bold** and *Italic*\n",
    "H for help (keyboard shortcuts)"
   ]
  },
  {
   "cell_type": "markdown",
   "id": "da260cd9",
   "metadata": {},
   "source": [
    "01 - My first program"
   ]
  },
  {
   "cell_type": "code",
   "execution_count": 1,
   "id": "cbbaa4fe",
   "metadata": {
    "scrolled": true
   },
   "outputs": [
    {
     "name": "stdout",
     "output_type": "stream",
     "text": [
      "101\n",
      "first\n"
     ]
    },
    {
     "data": {
      "text/plain": [
       "'this is it'"
      ]
     },
     "execution_count": 1,
     "metadata": {},
     "output_type": "execute_result"
    }
   ],
   "source": [
    "2+3 #(this will not be executed in visual studio text editor), only in terminal\n",
    "\n",
    "print(45+56) #use print option to run operators in text editor\n",
    "\n",
    "print(\"first\")\n",
    "\n",
    "# but in jupiter notebook\n",
    "\n",
    "a = \"this is it\"\n",
    "a # just write the variable name"
   ]
  },
  {
   "cell_type": "markdown",
   "id": "bd6028d6",
   "metadata": {},
   "source": [
    "02 - Operators"
   ]
  },
  {
   "cell_type": "code",
   "execution_count": 2,
   "id": "95b17158",
   "metadata": {
    "scrolled": true
   },
   "outputs": [
    {
     "name": "stdout",
     "output_type": "stream",
     "text": [
      "5\n",
      "1\n",
      "3.0\n",
      "3\n",
      "8\n"
     ]
    }
   ],
   "source": [
    "\n",
    "# Operation\tWhat it returns\n",
    "# x + y\tSum of x and y\n",
    "# x - y\tDifference of x and y\n",
    "# -x\tChanged sign of x\n",
    "# +x\tIdentity of x\n",
    "# x * y\tProduct of x and y\n",
    "# x / y\tQuotient of x and y (#values in decimel)\n",
    "# x // y\tQuotient from floor division of x and y (#vlaues in whole numbers)\n",
    "# x % y\tRemainder of x / y\n",
    "# x ** y\tx to the y power (does not run directly on terminal)\n",
    "\n",
    "#PEMDAS \n",
    "# Parenthesis Exponents Multiply Divide Addition Substraction\n",
    "# Left to Right Sequence - Multiply & Dvcide, Add & Sub\n",
    "\n",
    "print(2+3)\n",
    "#reminder %\n",
    "print(9%2)\n",
    "\n",
    "#values in decimel\n",
    "print(6/2)\n",
    "#vlaues in whole numbers\n",
    "print(6//2)\n",
    "#power\n",
    "print(2**3)\n"
   ]
  },
  {
   "cell_type": "markdown",
   "id": "d8371805",
   "metadata": {},
   "source": [
    "03 - Strings"
   ]
  },
  {
   "cell_type": "code",
   "execution_count": 3,
   "id": "d686ae33",
   "metadata": {
    "scrolled": true
   },
   "outputs": [
    {
     "name": "stdout",
     "output_type": "stream",
     "text": [
      "Hello World\n",
      "Test for single quote\n",
      "Test for double quote\n",
      "What's up?\n"
     ]
    }
   ],
   "source": [
    "print(\"Hello World\")\n",
    "\n",
    "print('Test for single quote')\n",
    "print(\"Test for double quote\")\n",
    "\n",
    "# This is why we use double quotes\n",
    "print(\"What's up?\")"
   ]
  },
  {
   "cell_type": "markdown",
   "id": "fe6641e9",
   "metadata": {},
   "source": [
    "04 - Comments and undo"
   ]
  },
  {
   "cell_type": "code",
   "execution_count": 4,
   "id": "2ff77b4f",
   "metadata": {},
   "outputs": [],
   "source": [
    "# use hastag (#) to comment out stuff\n",
    "\n",
    "# select all the rows you want to comment out and use control + #\n",
    "\n",
    "\n",
    "# use control + z to undo\n"
   ]
  },
  {
   "cell_type": "markdown",
   "id": "23ec5a52",
   "metadata": {},
   "source": [
    "05 - Variables"
   ]
  },
  {
   "cell_type": "code",
   "execution_count": 5,
   "id": "5f83fe0b",
   "metadata": {},
   "outputs": [
    {
     "name": "stdout",
     "output_type": "stream",
     "text": [
      "5\n",
      "Hello world\n",
      "20\n",
      "<class 'int'>\n",
      "<class 'str'>\n",
      "Mangoes\n",
      "('Mangoes', 'Oranges')\n",
      "Mangoes, Oranges\n",
      "8\n",
      "<class 'int'>\n"
     ]
    }
   ],
   "source": [
    "#variables : object containing specific values\n",
    "\n",
    "x = 5 # numeric vriable or integer variable\n",
    "print(x)\n",
    "\n",
    "y = \"Hello world\" # string variable\n",
    "print(y)\n",
    "\n",
    "x = x + 15\n",
    "print(x)\n",
    "\n",
    "# type of variables\n",
    "type(x) #this won't work\n",
    "print(type(x))\n",
    "\n",
    "print(type(y))\n",
    "\n",
    "# Rules to assign a variable :\n",
    "# 1- The variable should contain letters, numbers or underscores\n",
    "# 2- Do not start with numbers\n",
    "# 3- Spaces are not allowed\n",
    "# 4- Do not use keywords used in function (break, mean, media, test, etc.)\n",
    "# 5- Short and descriptive\n",
    "# 6- Case senstivity (Lower case, uppercase letters lower case letters should be used)\n",
    "\n",
    "fruit_basket = \"Mangoes\"\n",
    "print(fruit_basket)\n",
    "\n",
    "fruit_basket = \"Mangoes\", \"Oranges\"\n",
    "print(fruit_basket)\n",
    "\n",
    "fruit_basket = \"Mangoes, Oranges\"\n",
    "print(fruit_basket)\n",
    "\n",
    "fruit_basket = 8\n",
    "\n",
    "# delete the variable\n",
    "# del fruit_basket \n",
    "\n",
    "print(fruit_basket)\n",
    "\n",
    "print(type(fruit_basket))"
   ]
  },
  {
   "cell_type": "markdown",
   "id": "ec0aca28",
   "metadata": {},
   "source": [
    "06 - input_variables"
   ]
  },
  {
   "cell_type": "code",
   "execution_count": 6,
   "id": "51d672e9",
   "metadata": {},
   "outputs": [
    {
     "name": "stdout",
     "output_type": "stream",
     "text": [
      "Mangoes\n",
      "Which is your favourite fruit?Apple\n",
      "Apple\n",
      "What is your name? Akshay\n",
      "Hello! Akshay\n",
      "What is your name? Akshay\n",
      "Hello! Akshay\n",
      "What is your name? Akshay\n",
      "How old are you?98\n",
      "Hello! Akshay , You are still young\n"
     ]
    }
   ],
   "source": [
    "fruit_basket = \"Mangoes\"\n",
    "print(fruit_basket)\n",
    "\n",
    "#input function\n",
    "fruit_basket=input(\"Which is your favourite fruit?\")\n",
    "print(fruit_basket)\n",
    "\n",
    "#input function of 2nd stage\n",
    "name = input(\"What is your name? \")\n",
    "greetings=\"Hello!\"\n",
    "print(greetings, name)\n",
    "\n",
    "# another way of 2nd input function\n",
    "name = input(\"What is your name? \")\n",
    "print(\"Hello!\", name)\n",
    "\n",
    "#3rd stage input function\n",
    "name = input(\"What is your name? \")\n",
    "age = input(\"How old are you?\")\n",
    "greetings=\"Hello!\"\n",
    "print(greetings, name, \", You are still young\")"
   ]
  },
  {
   "cell_type": "markdown",
   "id": "7af6baa6",
   "metadata": {},
   "source": [
    "07 - conditional_logics"
   ]
  },
  {
   "cell_type": "code",
   "execution_count": 7,
   "id": "399d2d07",
   "metadata": {},
   "outputs": [
    {
     "name": "stdout",
     "output_type": "stream",
     "text": [
      "True\n",
      "False\n",
      "True\n",
      "True\n",
      "True\n",
      "True\n",
      "False\n",
      "How old is hammad?5\n",
      "False\n",
      "<class 'str'>\n",
      "How old is hammad?5\n",
      "True\n"
     ]
    }
   ],
   "source": [
    "# logical operators are either \"true or false\" or \"yes or no\" or \"0 or 1\"\n",
    "\n",
    "# equal to                     ==\n",
    "# not equal to                 !=\n",
    "# less than                \t   <\n",
    "# greater than                 >\n",
    "# less than and equal to       <=\n",
    "# greater than and equal to    >=\n",
    "\n",
    "#is 4 equal to 4\n",
    "print(4==4)\n",
    "print(4!=4)\n",
    "print(4>3)\n",
    "print(3<6)\n",
    "print(3<=5)\n",
    "print(5>=4)\n",
    "\n",
    "# application of logical operators\n",
    "hammad_age = 4\n",
    "age_at_school = 5\n",
    "print(hammad_age==age_at_school)\n",
    "\n",
    "#input function and logical operators\n",
    "age_at_school = 5\n",
    "hammad_age = input(\"How old is hammad?\") #input function\n",
    "print(hammad_age==age_at_school) #logical operator\n",
    "\n",
    "# why false?\n",
    "print(type(hammad_age))\n",
    "\n",
    "age_at_school = 5\n",
    "hammad_age = input(\"How old is hammad?\") #input function\n",
    "hammad_age=int(hammad_age)\n",
    "print(hammad_age==age_at_school) #logical operator\n"
   ]
  },
  {
   "cell_type": "markdown",
   "id": "a821324e",
   "metadata": {},
   "source": [
    "08 - Type_conversion"
   ]
  },
  {
   "cell_type": "code",
   "execution_count": 8,
   "id": "ab5ba11b",
   "metadata": {
    "scrolled": true
   },
   "outputs": [
    {
     "name": "stdout",
     "output_type": "stream",
     "text": [
      "<class 'int'>\n",
      "<class 'float'>\n",
      "<class 'str'>\n",
      "<class 'float'>\n",
      "<class 'float'>\n",
      "What is your age? 4\n",
      "4 <class 'str'>\n",
      "4 <class 'int'>\n",
      "4 <class 'str'>\n",
      "4 <class 'float'>\n"
     ]
    }
   ],
   "source": [
    "x = 10        #integer\n",
    "print(type(x))\n",
    "y = 10.2      #float\n",
    "print(type(y))\n",
    "\n",
    "z = \"Hello\"   #string\n",
    "print(type(z))\n",
    "\n",
    "#implicit type conversion\n",
    "x = x+y #integer + float\n",
    "print(type(x))\n",
    "\n",
    "x = x*y #integer * float\n",
    "print(type(x))\n",
    "\n",
    "#explicit type conversion\n",
    "age=input(\"What is your age? \")\n",
    "print (age, type(age))\n",
    "print (age, type(int(age)))\n",
    "\n",
    "\n",
    "print (age, type(str(age)))\n",
    "print (age, type(float(age)))\n"
   ]
  },
  {
   "cell_type": "markdown",
   "id": "9441a3a0",
   "metadata": {},
   "source": [
    "09 - if_else_&_elif"
   ]
  },
  {
   "cell_type": "code",
   "execution_count": 9,
   "id": "d7071495",
   "metadata": {},
   "outputs": [
    {
     "name": "stdout",
     "output_type": "stream",
     "text": [
      "hammad should join higher secondary school\n"
     ]
    }
   ],
   "source": [
    "hammad_age = 10\n",
    "required_age_at_school = 5\n",
    "\n",
    "# question : can hammad go to school?\n",
    "\n",
    "if hammad_age==required_age_at_school :\n",
    "    print(\"Hammad can go to school\")\n",
    "elif hammad_age > required_age_at_school :\n",
    "    print(\"hammad should join higher secondary school\")\n",
    "elif hammad_age <= 2:\n",
    "    print(\"you should take care of hammad, he is still a baby!\")\n",
    "else:\n",
    "    print(\"hammad cannot go to school\")\n"
   ]
  },
  {
   "cell_type": "markdown",
   "id": "cdc5439d",
   "metadata": {},
   "source": [
    "10 - Functions"
   ]
  },
  {
   "cell_type": "code",
   "execution_count": 10,
   "id": "174dc675",
   "metadata": {
    "scrolled": true
   },
   "outputs": [
    {
     "name": "stdout",
     "output_type": "stream",
     "text": [
      "we are learnin\n",
      "we are learnin\n",
      "we are learnin\n",
      "we are learnin\n",
      "we are learnin\n",
      "we are learnin\n",
      "we are learnin\n",
      "we are learnin\n",
      "we are learnin\n",
      "We are learni\n",
      "We are learni\n",
      "We are learni\n",
      "aaba_baba\n",
      "aaba_baba\n",
      "aaba_baba\n",
      "Hammad  can go to school\n",
      "38\n"
     ]
    }
   ],
   "source": [
    "print(\"we are learnin\")\n",
    "print(\"we are learnin\")\n",
    "print(\"we are learnin\")\n",
    "print(\"we are learnin\")\n",
    "print(\"we are learnin\")\n",
    "print(\"we are learnin\")\n",
    "\n",
    "#defining a function\n",
    "#1\n",
    "def print_codanics():\n",
    "    print(\"we are learnin\")\n",
    "    print(\"we are learnin\")\n",
    "    print(\"we are learnin\") \n",
    "\n",
    "print_codanics()\n",
    "\n",
    "#2\n",
    "def print_codanics():\n",
    "    text = \"We are learni\"\n",
    "    print(text)\n",
    "    print(text)\n",
    "    print(text)\n",
    "\n",
    "print_codanics()\n",
    "\n",
    "#3\n",
    "def print_codanics(text):\n",
    "    print(text)\n",
    "    print(text)\n",
    "    print(text)\n",
    "\n",
    "print_codanics(\"aaba_baba\") \n",
    "\n",
    "\n",
    "# defining a function with if, elif and else statements\n",
    "\n",
    "def school_calcultor(age, text):\n",
    "    if age==5 :\n",
    "        print(text, \" can go to school\")\n",
    "    elif age > 5 :\n",
    "        print(text, \"should join higher secondary school\")\n",
    "    elif age <= 2:\n",
    "        print(text, \"you should take care of hammad, he is still a baby!\")\n",
    "    else:\n",
    "        print(text, \" cannot go to school\")\n",
    "\n",
    "school_calcultor(5, \"Hammad\")\n",
    "\n",
    "# defining a function of future\n",
    "\n",
    "def future_age(age):\n",
    "    new_age=age+20\n",
    "    return new_age\n",
    "    print(new_age)\n",
    "\n",
    "future_predicetd_age=future_age(18)\n",
    "print(future_predicetd_age)"
   ]
  },
  {
   "cell_type": "markdown",
   "id": "3eedc73f",
   "metadata": {},
   "source": [
    "11- Loops"
   ]
  },
  {
   "cell_type": "code",
   "execution_count": 11,
   "id": "6274722a",
   "metadata": {
    "scrolled": false
   },
   "outputs": [
    {
     "name": "stdout",
     "output_type": "stream",
     "text": [
      "0\n",
      "1\n",
      "2\n",
      "3\n",
      "4\n",
      "5\n",
      "5\n",
      "6\n",
      "7\n",
      "8\n",
      "9\n",
      "Mon\n",
      "Tues\n",
      "Wed\n",
      "Thurs\n",
      "Fri\n",
      "Sat\n",
      "Sun\n",
      "Mon\n",
      "Tues\n",
      "Wed\n",
      "Thurs\n",
      "Sat\n",
      "Sun\n"
     ]
    }
   ],
   "source": [
    "# while and For loops\n",
    "\n",
    "# while loops\n",
    "\n",
    "x=0\n",
    "while (x<=5) :\n",
    "    print(x)\n",
    "    x=x+1\n",
    "\n",
    "\n",
    "# for loop\n",
    "\n",
    "for x in range(5,10):\n",
    "   print(x) \n",
    "\n",
    "# array \n",
    "days = [\"Mon\", \"Tues\", \"Wed\", \"Thurs\", \"Fri\", \"Sat\", \"Sun\"]\n",
    "\n",
    "for d in days: # it can be d or i or whatever you want\n",
    "    print(d)\n",
    "\n",
    "for d in days: \n",
    "#   if (d==\"Fri\") : break # loop stops\n",
    "    if (d==\"Fri\") : continue # skips d\n",
    "    print(d)"
   ]
  },
  {
   "cell_type": "markdown",
   "id": "676d2759",
   "metadata": {},
   "source": [
    "12- Import"
   ]
  },
  {
   "cell_type": "code",
   "execution_count": 12,
   "id": "f88e005c",
   "metadata": {},
   "outputs": [
    {
     "name": "stdout",
     "output_type": "stream",
     "text": [
      "The value of pi is 3.141592653589793\n",
      "300\n"
     ]
    }
   ],
   "source": [
    "#if you want to print the value of pi\n",
    "\n",
    "import math\n",
    "print(\"The value of pi is\", math.pi)\n",
    "\n",
    "import statistics\n",
    "\n",
    "x= [150, 250, 350, 450]\n",
    "print(statistics.mean(x))\n",
    "\n",
    "\n",
    "# numpy, pandas"
   ]
  },
  {
   "cell_type": "markdown",
   "id": "8cb262d8",
   "metadata": {},
   "source": [
    "13- Troubleshooting"
   ]
  },
  {
   "cell_type": "code",
   "execution_count": 13,
   "id": "2faddbe6",
   "metadata": {},
   "outputs": [],
   "source": [
    "# synthax error : print(er are learning)\n",
    "\n",
    "# runtime error : print (25/0)\n",
    "\n",
    "# Semantic Error , you have to know the python grammer\n",
    "# name = aklshay\n",
    "# print = (\"hello name\") # Semantic Error\n",
    "# print (\"hello\", name) # to give space between them\n",
    "# print (\"hello\"+ name) # to not give space between them\n",
    "\n"
   ]
  },
  {
   "cell_type": "markdown",
   "id": "702751fd",
   "metadata": {},
   "source": [
    "14 - Important_information"
   ]
  }
 ],
 "metadata": {
  "kernelspec": {
   "display_name": "Python 3 (ipykernel)",
   "language": "python",
   "name": "python3"
  },
  "language_info": {
   "codemirror_mode": {
    "name": "ipython",
    "version": 3
   },
   "file_extension": ".py",
   "mimetype": "text/x-python",
   "name": "python",
   "nbconvert_exporter": "python",
   "pygments_lexer": "ipython3",
   "version": "3.9.12"
  }
 },
 "nbformat": 4,
 "nbformat_minor": 5
}
